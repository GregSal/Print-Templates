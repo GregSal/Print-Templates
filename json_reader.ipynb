{
 "cells": [
  {
   "attachments": {},
   "cell_type": "markdown",
   "metadata": {},
   "source": [
    "# Reading Json File"
   ]
  },
  {
   "cell_type": "code",
   "execution_count": 90,
   "metadata": {},
   "outputs": [],
   "source": [
    "from pathlib import Path\n",
    "import re\n",
    "import json\n",
    "\n",
    "import pandas as pd\n",
    "import xlwings as xw"
   ]
  },
  {
   "cell_type": "code",
   "execution_count": 91,
   "metadata": {},
   "outputs": [],
   "source": [
    "base_path = Path(r'\\\\dkphysicspv1\\e$\\Gregs_Work\\Temp\\Plan Checking Temp')\n",
    "\n",
    "file_name = 'JasonTestFile.txt'\n",
    "test_file = base_path / file_name\n",
    "\n",
    "output_tables = 'plan_info.xlsx'\n",
    "output_file = base_path / output_tables"
   ]
  },
  {
   "cell_type": "code",
   "execution_count": 92,
   "metadata": {},
   "outputs": [],
   "source": [
    "json_text = test_file.read_text(encoding='utf_8_sig')"
   ]
  },
  {
   "attachments": {},
   "cell_type": "markdown",
   "metadata": {},
   "source": [
    "**Need to clean `\\` in user id**\n",
    "> `JSONDecodeError: Invalid \\escape: line 25 column 14 (char 575)`\n",
    "\n",
    "From:<br>\n",
    "`\"UserId\": \"hc\\gsalomon\",`<br>\n",
    "To:<br>\n",
    "\"UserId\": \"hc\\\\gsalomon\","
   ]
  },
  {
   "cell_type": "code",
   "execution_count": 93,
   "metadata": {},
   "outputs": [],
   "source": [
    "json_text = json_text.replace('hc\\\\', 'hc\\\\\\\\')"
   ]
  },
  {
   "attachments": {},
   "cell_type": "markdown",
   "metadata": {},
   "source": [
    "**Remove extra text from field names**\n",
    "```\n",
    "\"Fields\": [{\n",
    "  \"FieldName\": \"• KV ANT •\",\n",
    "  \"FieldId\": \"• KV ANT •\",\n",
    "```"
   ]
  },
  {
   "cell_type": "code",
   "execution_count": 94,
   "metadata": {},
   "outputs": [],
   "source": [
    "# Remove extra marks from field names\n",
    "json_text = re.sub(r'\\s*•\\s*', '', json_text)"
   ]
  },
  {
   "attachments": {},
   "cell_type": "markdown",
   "metadata": {},
   "source": [
    "**Need to deal with blank variables**\n",
    "\n",
    "Some variables may return blanks.  Need to strip commas in those cases.\n",
    "\n",
    "`JSONDecodeError: Expecting property name enclosed in double quotes: line 860 column 1 (char 23375)`\n",
    "\n",
    "> `\"HYPERARC\": {`<br>\n",
    "> `\"IsHyperArcPlan\": \"\",`<br>\n",
    "> `},`<br>\n"
   ]
  },
  {
   "cell_type": "code",
   "execution_count": 95,
   "metadata": {},
   "outputs": [],
   "source": [
    " # Remove commas with no following object\n",
    "json_text = re.sub(r',(\\s*[}\\]])', r'\\1', json_text)\n"
   ]
  },
  {
   "cell_type": "code",
   "execution_count": 96,
   "metadata": {},
   "outputs": [],
   "source": [
    "plan_data = json.loads(json_text)"
   ]
  },
  {
   "cell_type": "code",
   "execution_count": 97,
   "metadata": {},
   "outputs": [
    {
     "data": {
      "text/plain": [
       "['PLAN SUM',\n",
       " 'GENERAL',\n",
       " 'PATIENT',\n",
       " 'PROTOCOL',\n",
       " 'DVH',\n",
       " 'IMAGE',\n",
       " 'STRUCTURE SET',\n",
       " 'PLAN',\n",
       " 'HYPERARC',\n",
       " 'TARGET DOSE LEVEL',\n",
       " 'DOSE',\n",
       " 'REFERENCE POINT',\n",
       " 'PLAN VARIATION',\n",
       " 'EXTERNAL BEAM PLAN',\n",
       " 'Calculation',\n",
       " 'Fields']"
      ]
     },
     "execution_count": 97,
     "metadata": {},
     "output_type": "execute_result"
    }
   ],
   "source": [
    "list(plan_data.keys())"
   ]
  },
  {
   "cell_type": "code",
   "execution_count": 98,
   "metadata": {},
   "outputs": [],
   "source": [
    "wb = xw.Book()\n",
    "wb.save(output_file)"
   ]
  },
  {
   "cell_type": "code",
   "execution_count": 99,
   "metadata": {},
   "outputs": [],
   "source": [
    "structure_info = pd.DataFrame(plan_data[\"STRUCTURE SET\"][\"Structures\"])\n",
    "sheet = wb.sheets.add('Structures')\n",
    "xw.view(structure_info, sheet)"
   ]
  },
  {
   "cell_type": "code",
   "execution_count": 100,
   "metadata": {},
   "outputs": [],
   "source": [
    "structure_dose = pd.DataFrame(plan_data[\"DVH\"][\"DVHSummaryRows\"])\n",
    "sheet = wb.sheets.add('Structure Dose')\n",
    "xw.view(structure_dose, sheet)"
   ]
  },
  {
   "cell_type": "code",
   "execution_count": 101,
   "metadata": {},
   "outputs": [],
   "source": [
    "plan_info = plan_data['PLAN']\n",
    "plan_info.update(plan_data['IMAGE'])\n",
    "plan_info.update(plan_data['HYPERARC'])\n",
    "plan_info.update(plan_data['EXTERNAL BEAM PLAN'])\n",
    "sheet = wb.sheets.add('Plan Info')\n",
    "xw.view(plan_info, sheet)"
   ]
  },
  {
   "cell_type": "code",
   "execution_count": 102,
   "metadata": {},
   "outputs": [],
   "source": [
    "def get_fields(plan_data):\n",
    "    for fld in plan_data['Fields']:\n",
    "        if fld:\n",
    "            yield fld['Field']\n",
    "\n",
    "field_info = pd.DataFrame([fld for fld in get_fields(plan_data)]).T\n",
    "sheet = wb.sheets.add('Field Info')\n",
    "xw.view(field_info, sheet)"
   ]
  },
  {
   "cell_type": "code",
   "execution_count": 103,
   "metadata": {},
   "outputs": [
    {
     "data": {
      "text/plain": [
       "['Field',\n",
       " 'Proton Field',\n",
       " 'Wedge',\n",
       " 'Bolus',\n",
       " 'Block',\n",
       " 'Tray',\n",
       " 'Field Reference Point',\n",
       " 'Carriage Group']"
      ]
     },
     "execution_count": 103,
     "metadata": {},
     "output_type": "execute_result"
    }
   ],
   "source": [
    "list(plan_data[\"Fields\"][0].keys())"
   ]
  },
  {
   "attachments": {},
   "cell_type": "markdown",
   "metadata": {},
   "source": [
    "***Messages about calculation logs***\n",
    "```\n",
    "  Text=Calculation logs can be printed line by line using any of the following loops:\n",
    "  Text= - CalculationWarnings\n",
    "  Text= - CalculationErrors\n",
    "  Text= - CalculationInfos\n",
    "  Text= - CalculationNotes\n",
    "  Text= - LmcCalculationErrors\n",
    "  Text= - LmcCalculationWarnings\n",
    "  Text= - LmcCalculationInfos\n",
    "  Text= - LmcCalculationNotes\n",
    "  Text= - CompCalculationErrors\n",
    "  Text= - CompCalculationWarnings\n",
    "  Text= - CompCalculationInfos\n",
    "  Text= - CompCalculationNotes\n",
    "  Text= - PortalDoseCalculationErrors\n",
    "  Text= - PortalDoseCalculationWarnings\n",
    "  Text= - PortalDoseCalculationInfos\n",
    "  Text= - PortalDoseCalculationNotes\n",
    "  Text= - IMRTOptimizationErrors\n",
    "  Text= - IMRTOptimizationWarnings\n",
    "  Text= - IMRTOptimizationInfos\n",
    "  Text= - IMRTOptimizationNotes\n",
    "  Text= - VMATOptimizationErrors\n",
    "  Text= - VMATOptimizationWarnings\n",
    "  Text= - VMATOptimizationInfos\n",
    "  Text= - VMATOptimizationNotes\n",
    "  Text= - BeamAngleOptimizationErrors\n",
    "  Text= - BeamAngleOptimizationWarnings\n",
    "  Text= - BeamAngleOptimizationInfos\n",
    "  Text= - BeamAngleOptimizationNotes\n",
    "  Text= - BLCalculationErrors\n",
    "  Text= - BLCalculationWarnings\n",
    "  Text= - BLCalculationInfos\n",
    "  Text= - BLCalculationNotes\n",
    "  Text= - BeamLineModifiers\n",
    "  Text= - BLOptimizerCalculationErrors\n",
    "  Text= - BLOptimizerCalculationWarnings\n",
    "  Text= - BLOptimizerCalculationInfos\n",
    "  Text= - BLOptimizerCalculationNotes\n",
    "  Text= - PostProcessingCalculationErrors\n",
    "  Text= - PostProcessingCalculationWarnings\n",
    "  Text= - PostProcessingCalculationInfos\n",
    "  Text= - PostProcessingCalculationNotes\n",
    "  Text=Inside the loop the variable\n",
    "  Text=  $$ LogLine\n",
    "  Text=prints out the current line.\n",
    "  Text=The entire dose calculation log for the active field is printed using:\n",
    "  Text=$$ FieldLog :\n",
    "  Text=$FieldLog\n",
    "  ```"
   ]
  }
 ],
 "metadata": {
  "kernelspec": {
   "display_name": "plan_check_tools",
   "language": "python",
   "name": "python3"
  },
  "language_info": {
   "codemirror_mode": {
    "name": "ipython",
    "version": 3
   },
   "file_extension": ".py",
   "mimetype": "text/x-python",
   "name": "python",
   "nbconvert_exporter": "python",
   "pygments_lexer": "ipython3",
   "version": "3.9.7 | packaged by conda-forge | (default, Sep 29 2021, 19:15:42) [MSC v.1916 64 bit (AMD64)]"
  },
  "orig_nbformat": 4,
  "vscode": {
   "interpreter": {
    "hash": "37228e7e09080d5344c96ce458c25f0a85b329b4da800085b2b4b2eb311687b3"
   }
  }
 },
 "nbformat": 4,
 "nbformat_minor": 2
}
