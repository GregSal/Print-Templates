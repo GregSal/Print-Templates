{
 "cells": [
  {
   "attachments": {},
   "cell_type": "markdown",
   "metadata": {},
   "source": [
    "# Convert `.tml` Varian print template file to `.json`"
   ]
  },
  {
   "cell_type": "code",
   "execution_count": 222,
   "metadata": {},
   "outputs": [],
   "source": [
    "from pathlib import Path\n",
    "import re\n"
   ]
  },
  {
   "cell_type": "code",
   "execution_count": 223,
   "metadata": {},
   "outputs": [],
   "source": [
    "base_path = Path.cwd()\n",
    "file_name = 'AllVariables.tml'\n",
    "file = base_path / file_name\n",
    "\n",
    "output_file_name = 'AllVariablesJson.tml'\n",
    "output_file = base_path / output_file_name"
   ]
  },
  {
   "cell_type": "code",
   "execution_count": 224,
   "metadata": {},
   "outputs": [],
   "source": [
    "raw_template = file.read_text(encoding='utf_8_sig')"
   ]
  },
  {
   "cell_type": "code",
   "execution_count": 225,
   "metadata": {},
   "outputs": [],
   "source": [
    "#print(raw_template)\n",
    "#raw_template"
   ]
  },
  {
   "cell_type": "code",
   "execution_count": 226,
   "metadata": {},
   "outputs": [],
   "source": [
    "regex_patterns = [\n",
    "    # Remove lines containing formatting instructions\n",
    "    (r'^[ ]*Description=.+$', ''),\n",
    "    (r'^[ ]*PaperSize=.+$', ''),\n",
    "    (r'^[ ]*PaperOrientation=.+$', ''),\n",
    "    (r'^[ ]*TextRight=.+$', '',),\n",
    "    (r'^[ ]*Height=.+$', ''),\n",
    "    (r'^[ ]*PageBreak=.+$', ''),\n",
    "    (r'^[ ]*Section=.+$', ''),\n",
    "    (r'^[ ]*Font=.+$', ''),\n",
    "    (r'^[ ]*HorizontalLine=.+$', ''),\n",
    "    (r'^[ ]*Margin=.+$', ''),\n",
    "    (r'^[ ]*RelativeMove=.+$', ''),\n",
    "    (r'^[ ]*RelativeMoveText=.+$', ''),\n",
    "    (r'^[ ]*Move=.+$', ''),\n",
    "    (r'^[ ]*Color=.+$', ''),\n",
    "    # Remove any DVH Graph\n",
    "    (r'DVHGraph=.+$', ''),\n",
    "    # Convert lines with the format: Text=*<GROUP NAME>* VARIABLES\n",
    "    # to Json objects that contain objects:\n",
    "    # },                       # Ends previous object group\n",
    "    # \"*<GROUP NAME>*\": {      # Starts a new group \n",
    "    (r'Text=([A-Za-z ]+) (VARIABLES|Variables)([\\r\\n]+)', r'},\\3\"\\1\": {\\3'),\n",
    "    # convert lines with the format: Text=$$ *<VariableName>* : $*<VariableName>*\n",
    "    # to Json objects: \"*<VariableName>*\":, $*<VariableName>*,\n",
    "    (r'Text=[$]{2}[ ]*([A-Za-z_0-9]+)[ ]*:[ ]*([$][A-Za-z_0-9]+)', r'\"\\1\": \"\\2 \",'),\n",
    "    #for lines with the format: \n",
    "    # Text=$$ *<VariableName1>* $$ *<VariableName2>*: $*<VariableName>*\n",
    "    # Drop the second variable name\n",
    "    (r'Text=[$]{2}[ ]*([A-Za-z_0-9]+)[ ]*[$]{2}[ ]*([A-Za-z_0-9]+)[ ]*:[ ]*([$][A-Za-z_0-9$#]+)', r'\"\\1\": \"\\3 \",'),\n",
    "    # Convert lines within a loop to an array:\n",
    "    # convert lines with the format: Loop=*<VariableName>*\n",
    "    # to a Json array of objects:\n",
    "    # *<indent>*\"*<VariableName>*\": [{\n",
    "    # embed original Loop command from tml inside Json array structure.     \n",
    "    # Loop=*<VariableName>*   \n",
    "    (r'([ ]*)Loop=([A-Za-z_0-9]+)([\\r\\n]+)', r'\\1\"\\2\": [{\\3\\1Loop=\\2\\3\\1'),\n",
    "    # Add end-of array Json syntax after an EndLoop  command:\n",
    "    # convert lines with the format: Loop=*<VariableName>*\n",
    "    # to a Json array of objects:\n",
    "    # *<indent>*}\n",
    "    # *<indent>*EndLoop\n",
    "    # *<indent>*],\n",
    "    (r'([ ]*)EndLoop([\\r\\n]+)', r'\\1},{\\2\\1EndLoop\\2\\1}],\\2'),\n",
    "    # Remove comment lines containing 'Text='\n",
    "    (r'^[ ]*Text=[^\\r\\n]*$', r''),    \n",
    "    # Remove comments (everything on a line after '#', \n",
    "    # except when '#' is preceded by '$')\n",
    "    (r'[#](?<!$#)[^\\r\\n]*$', ''),\n",
    "    # Remove contents of lines that contain only spaces.\n",
    "    (r'^[ ]+$', ''),\n",
    "    # Remove commas with no following object\n",
    "    (r',(\\s*[}\\]])', r'\\1'),\n",
    "    ]"
   ]
  },
  {
   "attachments": {},
   "cell_type": "markdown",
   "metadata": {},
   "source": [
    "**Object levels incorrect***\n",
    "\n",
    "`JSONDecodeError: Expecting ',' delimiter: line 1027 column 14 (char 27962)`\n",
    "\n",
    "This template text:\n",
    "```\n",
    "Text=Field Variables\n",
    "Loop=Fields\n",
    "  Text=$$ FieldName : $FieldName\n",
    "  Text=$$ FieldId : $FieldId\n",
    "...\n",
    "  Text=$$ ApplicatorId : $ApplicatorId\n",
    "  Text=\n",
    "  Text=Calculation Variables\n",
    "  Text=$$ FieldCalculationTimestamp : $FieldCalculationTimestamp\n",
    "...\n",
    "  Text=$$ PostProcessingExecuted : $PostProcessingExecuted\n",
    "  Text=MLC Variables\n",
    "  Text=$$ FieldMLCs : $FieldMLCs\n",
    "...\n",
    "  Text=$$ MLCPlanSegments : $MLCPlanSegments\n",
    "```"
   ]
  },
  {
   "attachments": {},
   "cell_type": "markdown",
   "metadata": {},
   "source": [
    " is converted to:\n",
    " ```\n",
    "},\n",
    "\"Field\": {\n",
    "\"Fields\": [{\n",
    "```\n",
    "Need something like: `\"Parameters\": {` here\n",
    "```\n",
    "  \"FieldName\": \"• KV ANT •\",\n",
    "  \"FieldId\": \"• KV ANT •\",\n",
    "...\n",
    "  \"ApplicatorId\": \"-\"\n",
    "  },\n",
    "\"Calculation\": {\n",
    "  \"FieldCalculationTimestamp\": \"Monday, February 6, 2023 2:15:36 PM\",\n",
    "...\n",
    "  \"PostProcessingExecuted\": \"\"\n",
    "  },\n",
    "\"MLC\": {\n",
    "  \"FieldMLCs\": \"0\",\n",
    "...\n",
    "  \"MLCPlanSegments\": \"-\"\n",
    "  },\n",
    "  ...\n",
    "  \"Carriage Group\": {\n",
    "  \"CarriageGroups\": [{\n",
    "  }]\n",
    "}\n",
    "},{\n",
    "```\n",
    "**Change last `},{` to `},`**"
   ]
  },
  {
   "cell_type": "code",
   "execution_count": 227,
   "metadata": {},
   "outputs": [
    {
     "name": "stdout",
     "output_type": "stream",
     "text": [
      "Replaced 1 instances of ^[ ]*Description=.+$\n",
      "Replaced 1 instances of ^[ ]*PaperSize=.+$\n",
      "Replaced 1 instances of ^[ ]*PaperOrientation=.+$\n",
      "Replaced 1 instances of ^[ ]*TextRight=.+$\n",
      "Replaced 2 instances of ^[ ]*Height=.+$\n",
      "Replaced 1 instances of ^[ ]*PageBreak=.+$\n",
      "Replaced 4 instances of ^[ ]*Section=.+$\n",
      "Replaced 58 instances of ^[ ]*Font=.+$\n",
      "Replaced 20 instances of ^[ ]*HorizontalLine=.+$\n",
      "Replaced 72 instances of ^[ ]*Margin=.+$\n",
      "Replaced 35 instances of ^[ ]*RelativeMove=.+$\n",
      "Replaced 1 instances of ^[ ]*RelativeMoveText=.+$\n",
      "Replaced 76 instances of ^[ ]*Move=.+$\n",
      "Replaced 1 instances of ^[ ]*Color=.+$\n",
      "Replaced 2 instances of DVHGraph=.+$\n",
      "Replaced 28 instances of Text=([A-Za-z ]+) (VARIABLES|Variables)([\\r\\n]+)\n",
      "Replaced 424 instances of Text=[$]{2}[ ]*([A-Za-z_0-9]+)[ ]*:[ ]*([$][A-Za-z_0-9]+)\n",
      "Replaced 6 instances of Text=[$]{2}[ ]*([A-Za-z_0-9]+)[ ]*[$]{2}[ ]*([A-Za-z_0-9]+)[ ]*:[ ]*([$][A-Za-z_0-9$#]+)\n",
      "Replaced 20 instances of ([ ]*)Loop=([A-Za-z_0-9]+)([\\r\\n]+)\n",
      "Replaced 20 instances of ([ ]*)EndLoop([\\r\\n]+)\n",
      "Replaced 121 instances of ^[ ]*Text=[^\\r\\n]*$\n",
      "Replaced 5 instances of [#](?<!$#)[^\\r\\n]*$\n",
      "Replaced 0 instances of ^[ ]+$\n",
      "Replaced 45 instances of ,(\\s*[}\\]])\n"
     ]
    }
   ],
   "source": [
    "mod_str = raw_template\n",
    "for ptrn, repl in regex_patterns:\n",
    "    mod_str, rep_num = re.subn(ptrn, repl, mod_str, flags=re.MULTILINE)\n",
    "    print(f'Replaced {rep_num} instances of {ptrn}')\n",
    "    \n",
    "    \n",
    "\n",
    "# Remove blank lines\n",
    "while '\\n\\n' in mod_str:\n",
    "    mod_str = mod_str.replace('\\n\\n', '\\n')\n",
    "# Replace the first }, with {\n",
    "mod_str = mod_str.replace('},', '{', 1)\n",
    "# Add '}' to the end of the text\n",
    "mod_str = mod_str + '}'\n"
   ]
  },
  {
   "cell_type": "code",
   "execution_count": 229,
   "metadata": {},
   "outputs": [],
   "source": [
    "#mod_str\n",
    "#print(mod_str)"
   ]
  },
  {
   "cell_type": "code",
   "execution_count": 230,
   "metadata": {},
   "outputs": [],
   "source": [
    "command_text = [\n",
    "    'Loop',\n",
    "    'EndLoop',\n",
    "    'If',\n",
    "    'EndIf',\n",
    "    'Text=',\n",
    "    '#'\n",
    "    ]\n",
    "prt_tmpl_list = []\n",
    "for line in mod_str.splitlines():\n",
    "    if not any(cm in line for cm in command_text):\n",
    "        line = 'Text=' + line\n",
    "    prt_tmpl_list.append(line)\n"
   ]
  },
  {
   "cell_type": "code",
   "execution_count": 231,
   "metadata": {},
   "outputs": [],
   "source": [
    "final_json_prt_tmpl = '\\n'.join(prt_tmpl_list)\n",
    "# Add 'Section=Form' to the beginning  of the text\n",
    "final_json_prt_tmpl = 'Section=Form\\n\\n' + final_json_prt_tmpl"
   ]
  },
  {
   "cell_type": "code",
   "execution_count": 232,
   "metadata": {},
   "outputs": [
    {
     "data": {
      "text/plain": [
       "23874"
      ]
     },
     "execution_count": 232,
     "metadata": {},
     "output_type": "execute_result"
    }
   ],
   "source": [
    "output_file.write_text(final_json_prt_tmpl, encoding='utf_8_sig')"
   ]
  },
  {
   "cell_type": "code",
   "execution_count": 201,
   "metadata": {},
   "outputs": [],
   "source": [
    "#print(final_json_prt_tmpl)"
   ]
  },
  {
   "attachments": {},
   "cell_type": "markdown",
   "metadata": {},
   "source": [
    "# Reading Json File"
   ]
  },
  {
   "cell_type": "code",
   "execution_count": 202,
   "metadata": {},
   "outputs": [],
   "source": [
    "import json"
   ]
  },
  {
   "attachments": {},
   "cell_type": "markdown",
   "metadata": {},
   "source": [
    "***`JSONDecodeError: Expecting property name enclosed in double quotes: line 15 column 1 (char 343)`***"
   ]
  },
  {
   "attachments": {},
   "cell_type": "markdown",
   "metadata": {},
   "source": [
    " \n",
    "{\n",
    "\"PLAN SUM\": {\n",
    "\"PlanSumId\": \"-\",\n",
    "\"PlanSumName\": \"-\",\n",
    "\"PlanSumCourseId\": \"-\",\n",
    "\"SumPlans\": [{\n",
    "  \"PlanIdOfSum\": \"BRAI-FSRT\",\n",
    "  \"PlanNameOfSum\": \"BRAI-FSRT\",\n",
    "  \"DosePerFrac_ForSum\": \"900.0 cGy\",\n",
    "  \"NbrOfFrac_ForSum\": \"3\",\n",
    "  \"TotalDose_ForSum\": \"2700.0 cGy\",\n",
    "  \"TotalDoseAtPrimary_ForSum\": \"2700.0 cGy\",\n",
    "  \"DosePerFraction_ForSum\": \"900.0 cGy\",\n",
    "},{\n",
    "}],\n",
    "},\n"
   ]
  },
  {
   "cell_type": "code",
   "execution_count": 238,
   "metadata": {},
   "outputs": [
    {
     "ename": "JSONDecodeError",
     "evalue": "Expecting ',' delimiter: line 1027 column 14 (char 27962)",
     "output_type": "error",
     "traceback": [
      "\u001b[1;31m---------------------------------------------------------------------------\u001b[0m",
      "\u001b[1;31mJSONDecodeError\u001b[0m                           Traceback (most recent call last)",
      "Cell \u001b[1;32mIn [238], line 3\u001b[0m\n\u001b[0;32m      1\u001b[0m test_file \u001b[39m=\u001b[39m Path(\u001b[39mr\u001b[39m\u001b[39m'\u001b[39m\u001b[39m\\\\\u001b[39;00m\u001b[39mdkphysicspv1\u001b[39m\u001b[39m\\\u001b[39m\u001b[39me$\u001b[39m\u001b[39m\\\u001b[39m\u001b[39mGregs_Work\u001b[39m\u001b[39m\\\u001b[39m\u001b[39mTemp\u001b[39m\u001b[39m\\\u001b[39m\u001b[39mPlan Checking Temp\u001b[39m\u001b[39m\\\u001b[39m\u001b[39mJasonTestFile.txt\u001b[39m\u001b[39m'\u001b[39m)\n\u001b[0;32m      2\u001b[0m json_text \u001b[39m=\u001b[39m test_file\u001b[39m.\u001b[39mread_text(encoding\u001b[39m=\u001b[39m\u001b[39m'\u001b[39m\u001b[39mutf_8_sig\u001b[39m\u001b[39m'\u001b[39m)\n\u001b[1;32m----> 3\u001b[0m json\u001b[39m.\u001b[39;49mloads(json_text)\n",
      "File \u001b[1;32mc:\\ProgramData\\Anaconda3\\envs\\plan_check_tools\\lib\\json\\__init__.py:346\u001b[0m, in \u001b[0;36mloads\u001b[1;34m(s, cls, object_hook, parse_float, parse_int, parse_constant, object_pairs_hook, **kw)\u001b[0m\n\u001b[0;32m    341\u001b[0m     s \u001b[39m=\u001b[39m s\u001b[39m.\u001b[39mdecode(detect_encoding(s), \u001b[39m'\u001b[39m\u001b[39msurrogatepass\u001b[39m\u001b[39m'\u001b[39m)\n\u001b[0;32m    343\u001b[0m \u001b[39mif\u001b[39;00m (\u001b[39mcls\u001b[39m \u001b[39mis\u001b[39;00m \u001b[39mNone\u001b[39;00m \u001b[39mand\u001b[39;00m object_hook \u001b[39mis\u001b[39;00m \u001b[39mNone\u001b[39;00m \u001b[39mand\u001b[39;00m\n\u001b[0;32m    344\u001b[0m         parse_int \u001b[39mis\u001b[39;00m \u001b[39mNone\u001b[39;00m \u001b[39mand\u001b[39;00m parse_float \u001b[39mis\u001b[39;00m \u001b[39mNone\u001b[39;00m \u001b[39mand\u001b[39;00m\n\u001b[0;32m    345\u001b[0m         parse_constant \u001b[39mis\u001b[39;00m \u001b[39mNone\u001b[39;00m \u001b[39mand\u001b[39;00m object_pairs_hook \u001b[39mis\u001b[39;00m \u001b[39mNone\u001b[39;00m \u001b[39mand\u001b[39;00m \u001b[39mnot\u001b[39;00m kw):\n\u001b[1;32m--> 346\u001b[0m     \u001b[39mreturn\u001b[39;00m _default_decoder\u001b[39m.\u001b[39;49mdecode(s)\n\u001b[0;32m    347\u001b[0m \u001b[39mif\u001b[39;00m \u001b[39mcls\u001b[39m \u001b[39mis\u001b[39;00m \u001b[39mNone\u001b[39;00m:\n\u001b[0;32m    348\u001b[0m     \u001b[39mcls\u001b[39m \u001b[39m=\u001b[39m JSONDecoder\n",
      "File \u001b[1;32mc:\\ProgramData\\Anaconda3\\envs\\plan_check_tools\\lib\\json\\decoder.py:337\u001b[0m, in \u001b[0;36mJSONDecoder.decode\u001b[1;34m(self, s, _w)\u001b[0m\n\u001b[0;32m    332\u001b[0m \u001b[39mdef\u001b[39;00m \u001b[39mdecode\u001b[39m(\u001b[39mself\u001b[39m, s, _w\u001b[39m=\u001b[39mWHITESPACE\u001b[39m.\u001b[39mmatch):\n\u001b[0;32m    333\u001b[0m     \u001b[39m\"\"\"Return the Python representation of ``s`` (a ``str`` instance\u001b[39;00m\n\u001b[0;32m    334\u001b[0m \u001b[39m    containing a JSON document).\u001b[39;00m\n\u001b[0;32m    335\u001b[0m \n\u001b[0;32m    336\u001b[0m \u001b[39m    \"\"\"\u001b[39;00m\n\u001b[1;32m--> 337\u001b[0m     obj, end \u001b[39m=\u001b[39m \u001b[39mself\u001b[39;49m\u001b[39m.\u001b[39;49mraw_decode(s, idx\u001b[39m=\u001b[39;49m_w(s, \u001b[39m0\u001b[39;49m)\u001b[39m.\u001b[39;49mend())\n\u001b[0;32m    338\u001b[0m     end \u001b[39m=\u001b[39m _w(s, end)\u001b[39m.\u001b[39mend()\n\u001b[0;32m    339\u001b[0m     \u001b[39mif\u001b[39;00m end \u001b[39m!=\u001b[39m \u001b[39mlen\u001b[39m(s):\n",
      "File \u001b[1;32mc:\\ProgramData\\Anaconda3\\envs\\plan_check_tools\\lib\\json\\decoder.py:353\u001b[0m, in \u001b[0;36mJSONDecoder.raw_decode\u001b[1;34m(self, s, idx)\u001b[0m\n\u001b[0;32m    344\u001b[0m \u001b[39m\"\"\"Decode a JSON document from ``s`` (a ``str`` beginning with\u001b[39;00m\n\u001b[0;32m    345\u001b[0m \u001b[39ma JSON document) and return a 2-tuple of the Python\u001b[39;00m\n\u001b[0;32m    346\u001b[0m \u001b[39mrepresentation and the index in ``s`` where the document ended.\u001b[39;00m\n\u001b[1;32m   (...)\u001b[0m\n\u001b[0;32m    350\u001b[0m \n\u001b[0;32m    351\u001b[0m \u001b[39m\"\"\"\u001b[39;00m\n\u001b[0;32m    352\u001b[0m \u001b[39mtry\u001b[39;00m:\n\u001b[1;32m--> 353\u001b[0m     obj, end \u001b[39m=\u001b[39m \u001b[39mself\u001b[39;49m\u001b[39m.\u001b[39;49mscan_once(s, idx)\n\u001b[0;32m    354\u001b[0m \u001b[39mexcept\u001b[39;00m \u001b[39mStopIteration\u001b[39;00m \u001b[39mas\u001b[39;00m err:\n\u001b[0;32m    355\u001b[0m     \u001b[39mraise\u001b[39;00m JSONDecodeError(\u001b[39m\"\u001b[39m\u001b[39mExpecting value\u001b[39m\u001b[39m\"\u001b[39m, s, err\u001b[39m.\u001b[39mvalue) \u001b[39mfrom\u001b[39;00m \u001b[39mNone\u001b[39m\n",
      "\u001b[1;31mJSONDecodeError\u001b[0m: Expecting ',' delimiter: line 1027 column 14 (char 27962)"
     ]
    }
   ],
   "source": [
    "test_file = Path(r'\\\\dkphysicspv1\\e$\\Gregs_Work\\Temp\\Plan Checking Temp\\JasonTestFile.txt')\n",
    "json_text = test_file.read_text(encoding='utf_8_sig')\n",
    "json.loads(json_text)"
   ]
  },
  {
   "cell_type": "code",
   "execution_count": null,
   "metadata": {},
   "outputs": [],
   "source": []
  },
  {
   "attachments": {},
   "cell_type": "markdown",
   "metadata": {},
   "source": [
    "***Messages about calculation logs***\n",
    "```\n",
    "  Text=Calculation logs can be printed line by line using any of the following loops:\n",
    "  Text= - CalculationWarnings\n",
    "  Text= - CalculationErrors\n",
    "  Text= - CalculationInfos\n",
    "  Text= - CalculationNotes\n",
    "  Text= - LmcCalculationErrors\n",
    "  Text= - LmcCalculationWarnings\n",
    "  Text= - LmcCalculationInfos\n",
    "  Text= - LmcCalculationNotes\n",
    "  Text= - CompCalculationErrors\n",
    "  Text= - CompCalculationWarnings\n",
    "  Text= - CompCalculationInfos\n",
    "  Text= - CompCalculationNotes\n",
    "  Text= - PortalDoseCalculationErrors\n",
    "  Text= - PortalDoseCalculationWarnings\n",
    "  Text= - PortalDoseCalculationInfos\n",
    "  Text= - PortalDoseCalculationNotes\n",
    "  Text= - IMRTOptimizationErrors\n",
    "  Text= - IMRTOptimizationWarnings\n",
    "  Text= - IMRTOptimizationInfos\n",
    "  Text= - IMRTOptimizationNotes\n",
    "  Text= - VMATOptimizationErrors\n",
    "  Text= - VMATOptimizationWarnings\n",
    "  Text= - VMATOptimizationInfos\n",
    "  Text= - VMATOptimizationNotes\n",
    "  Text= - BeamAngleOptimizationErrors\n",
    "  Text= - BeamAngleOptimizationWarnings\n",
    "  Text= - BeamAngleOptimizationInfos\n",
    "  Text= - BeamAngleOptimizationNotes\n",
    "  Text= - BLCalculationErrors\n",
    "  Text= - BLCalculationWarnings\n",
    "  Text= - BLCalculationInfos\n",
    "  Text= - BLCalculationNotes\n",
    "  Text= - BeamLineModifiers\n",
    "  Text= - BLOptimizerCalculationErrors\n",
    "  Text= - BLOptimizerCalculationWarnings\n",
    "  Text= - BLOptimizerCalculationInfos\n",
    "  Text= - BLOptimizerCalculationNotes\n",
    "  Text= - PostProcessingCalculationErrors\n",
    "  Text= - PostProcessingCalculationWarnings\n",
    "  Text= - PostProcessingCalculationInfos\n",
    "  Text= - PostProcessingCalculationNotes\n",
    "  Text=Inside the loop the variable\n",
    "  Text=  $$ LogLine\n",
    "  Text=prints out the current line.\n",
    "  Text=The entire dose calculation log for the active field is printed using:\n",
    "  Text=$$ FieldLog :\n",
    "  Text=$FieldLog\n",
    "  ```"
   ]
  }
 ],
 "metadata": {
  "kernelspec": {
   "display_name": "plan_check_tools",
   "language": "python",
   "name": "python3"
  },
  "language_info": {
   "codemirror_mode": {
    "name": "ipython",
    "version": 3
   },
   "file_extension": ".py",
   "mimetype": "text/x-python",
   "name": "python",
   "nbconvert_exporter": "python",
   "pygments_lexer": "ipython3",
   "version": "3.9.7"
  },
  "orig_nbformat": 4,
  "vscode": {
   "interpreter": {
    "hash": "37228e7e09080d5344c96ce458c25f0a85b329b4da800085b2b4b2eb311687b3"
   }
  }
 },
 "nbformat": 4,
 "nbformat_minor": 2
}
