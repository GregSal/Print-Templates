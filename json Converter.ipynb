{
 "cells": [
  {
   "attachments": {},
   "cell_type": "markdown",
   "metadata": {},
   "source": [
    "# Convert `.tml` Varian print template file to `.json`"
   ]
  },
  {
   "cell_type": "code",
   "execution_count": 76,
   "metadata": {},
   "outputs": [],
   "source": [
    "from pathlib import Path\n",
    "import re\n"
   ]
  },
  {
   "cell_type": "code",
   "execution_count": 77,
   "metadata": {},
   "outputs": [],
   "source": [
    "base_path = Path.cwd()\n",
    "file_name = 'AllVariables.tml'\n",
    "file = base_path / file_name\n",
    "\n",
    "output_file_name = 'AllVariablesJson.tml'\n",
    "output_file = base_path / output_file_name"
   ]
  },
  {
   "cell_type": "code",
   "execution_count": 78,
   "metadata": {},
   "outputs": [],
   "source": [
    "raw_template = file.read_text(encoding='utf_8_sig')"
   ]
  },
  {
   "cell_type": "code",
   "execution_count": 79,
   "metadata": {},
   "outputs": [],
   "source": [
    "#print(raw_template)\n",
    "#raw_template"
   ]
  },
  {
   "cell_type": "code",
   "execution_count": 80,
   "metadata": {},
   "outputs": [],
   "source": [
    "regex_patterns = [\n",
    "    # Remove lines containing formatting instructions\n",
    "    (r'^[ ]*Description=.+$', ''),\n",
    "    (r'^[ ]*PaperSize=.+$', ''),\n",
    "    (r'^[ ]*PaperOrientation=.+$', ''),\n",
    "    (r'^[ ]*TextRight=.+$', '',),\n",
    "    (r'^[ ]*Height=.+$', ''),\n",
    "    (r'^[ ]*PageBreak=.+$', ''),\n",
    "    (r'^[ ]*Section=.+$', ''),\n",
    "    (r'^[ ]*Font=.+$', ''),\n",
    "    (r'^[ ]*HorizontalLine=.+$', ''),\n",
    "    (r'^[ ]*Margin=.+$', ''),\n",
    "    (r'^[ ]*RelativeMove=.+$', ''),\n",
    "    (r'^[ ]*RelativeMoveText=.+$', ''),\n",
    "    (r'^[ ]*Move=.+$', ''),\n",
    "    (r'^[ ]*Color=.+$', ''),\n",
    "    # Remove any DVH Graph\n",
    "    (r'DVHGraph=.+$', ''),\n",
    "    # Convert lines with the format: Text=*<GROUP NAME>* VARIABLES\n",
    "    # to Json objects that contain objects:\n",
    "    # },                       # Ends previous object group\n",
    "    # \"*<GROUP NAME>*\": {      # Starts a new group \n",
    "    (r'Text=([A-Za-z ]+) (VARIABLES|Variables)([\\r\\n]+)', r'},\\3\"\\1\": {\\3'),\n",
    "    # convert lines with the format: Text=$$ *<VariableName>* : $*<VariableName>*\n",
    "    # to Json objects: \"*<VariableName>*\":, $*<VariableName>*,\n",
    "    (r'Text=[$]{2}[ ]*([A-Za-z_0-9]+)[ ]*:[ ]*([$][A-Za-z_0-9]+)', r'\"\\1\": \"\\2 \",'),\n",
    "    #for lines with the format: \n",
    "    # Text=$$ *<VariableName1>* $$ *<VariableName2>*: $*<VariableName>*\n",
    "    # Drop the second variable name\n",
    "    (r'Text=[$]{2}[ ]*([A-Za-z_0-9]+)[ ]*[$]{2}[ ]*([A-Za-z_0-9]+)[ ]*:[ ]*([$][A-Za-z_0-9$#]+)', r'\"\\1\": \"\\3 \",'),\n",
    "    # Convert lines within a loop to an array:\n",
    "    # convert lines with the format: Loop=*<VariableName>*\n",
    "    # to a Json array of objects:\n",
    "    # *<indent>*\"*<VariableName>*\": [{\n",
    "    # embed original Loop command from tml inside Json array structure.     \n",
    "    # Loop=*<VariableName>*   \n",
    "    (r'([ ]*)Loop=([A-Za-z_0-9]+)([\\r\\n]+)', r'\\1\"\\2\": [{\\3\\1Loop=\\2\\3\\1'),\n",
    "    # Add end-of array Json syntax after an EndLoop  command:\n",
    "    # convert lines with the format: Loop=*<VariableName>*\n",
    "    # to a Json array of objects:\n",
    "    # *<indent>*}\n",
    "    # *<indent>*EndLoop\n",
    "    # *<indent>*],\n",
    "    (r'([ ]*)EndLoop([\\r\\n]+)', r'\\1},{\\2\\1EndLoop\\2\\1}],\\2'),\n",
    "    # Remove comment lines containing 'Text='\n",
    "    (r'^[ ]*Text=[^\\r\\n]*$', r''),    \n",
    "    # Remove comments (everything on a line after '#', \n",
    "    # except when '#' is preceded by '$')\n",
    "    (r'[#](?<!$#)[^\\r\\n]*$', ''),\n",
    "    # Remove contents of lines that contain only spaces.\n",
    "    (r'^[ ]+$', ''),\n",
    "    # Remove commas with no following object\n",
    "    (r',(\\s*[}\\]])', r'\\1'),\n",
    "    ]"
   ]
  },
  {
   "cell_type": "code",
   "execution_count": 81,
   "metadata": {},
   "outputs": [
    {
     "name": "stdout",
     "output_type": "stream",
     "text": [
      "Replaced 1 instances of ^[ ]*Description=.+$\n",
      "Replaced 1 instances of ^[ ]*PaperSize=.+$\n",
      "Replaced 1 instances of ^[ ]*PaperOrientation=.+$\n",
      "Replaced 1 instances of ^[ ]*TextRight=.+$\n",
      "Replaced 2 instances of ^[ ]*Height=.+$\n",
      "Replaced 1 instances of ^[ ]*PageBreak=.+$\n",
      "Replaced 4 instances of ^[ ]*Section=.+$\n",
      "Replaced 58 instances of ^[ ]*Font=.+$\n",
      "Replaced 20 instances of ^[ ]*HorizontalLine=.+$\n",
      "Replaced 72 instances of ^[ ]*Margin=.+$\n",
      "Replaced 35 instances of ^[ ]*RelativeMove=.+$\n",
      "Replaced 1 instances of ^[ ]*RelativeMoveText=.+$\n",
      "Replaced 76 instances of ^[ ]*Move=.+$\n",
      "Replaced 1 instances of ^[ ]*Color=.+$\n",
      "Replaced 2 instances of DVHGraph=.+$\n",
      "Replaced 28 instances of Text=([A-Za-z ]+) (VARIABLES|Variables)([\\r\\n]+)\n",
      "Replaced 424 instances of Text=[$]{2}[ ]*([A-Za-z_0-9]+)[ ]*:[ ]*([$][A-Za-z_0-9]+)\n",
      "Replaced 6 instances of Text=[$]{2}[ ]*([A-Za-z_0-9]+)[ ]*[$]{2}[ ]*([A-Za-z_0-9]+)[ ]*:[ ]*([$][A-Za-z_0-9$#]+)\n",
      "Replaced 20 instances of ([ ]*)Loop=([A-Za-z_0-9]+)([\\r\\n]+)\n",
      "Replaced 20 instances of ([ ]*)EndLoop([\\r\\n]+)\n",
      "Replaced 121 instances of ^[ ]*Text=[^\\r\\n]*$\n",
      "Replaced 5 instances of [#](?<!$#)[^\\r\\n]*$\n",
      "Replaced 0 instances of ^[ ]+$\n",
      "Replaced 45 instances of ,(\\s*[}\\]])\n"
     ]
    }
   ],
   "source": [
    "mod_str = raw_template\n",
    "for ptrn, repl in regex_patterns:\n",
    "    mod_str, rep_num = re.subn(ptrn, repl, mod_str, flags=re.MULTILINE)\n",
    "    print(f'Replaced {rep_num} instances of {ptrn}')\n",
    "    \n",
    "    \n",
    "\n",
    "# Remove blank lines\n",
    "while '\\n\\n' in mod_str:\n",
    "    mod_str = mod_str.replace('\\n\\n', '\\n')\n",
    "# Replace the first }, with {\n",
    "mod_str = mod_str.replace('},', '{', 1)\n",
    "# Add '}' to the end of the text\n",
    "mod_str = mod_str + '}'\n"
   ]
  },
  {
   "attachments": {},
   "cell_type": "markdown",
   "metadata": {},
   "source": [
    "***Duplicate group name 'GENERAL'***\n",
    "\n",
    "<table>\n",
    "<tr><td>Initial template text:</td><td>Final template text:</td></tr>\n",
    "<tr>\n",
    "<td>\n",
    "<code>\n",
    "\"EXTERNAL BEAM PLAN\": {<br>\n",
    "},<br>\n",
    "\"GENERAL\": {<br>\n",
    "</code>\n",
    "</td>\n",
    "<td>\n",
    "<code>\n",
    "\"EXTERNAL BEAM PLAN\": {<br>\n",
    "</code>\n",
    "</td></tr>\n",
    "</table>\n"
   ]
  },
  {
   "cell_type": "code",
   "execution_count": 82,
   "metadata": {},
   "outputs": [],
   "source": [
    "eb_orig = '\\n'.join([\n",
    "    '\"EXTERNAL BEAM PLAN\": {',\n",
    "    '},',\n",
    "    '\"GENERAL\": {'\n",
    "    ])\n",
    "eb_rename = '\"EXTERNAL BEAM PLAN\": {\\n'\n",
    "\n",
    "mod_str = mod_str.replace(eb_orig, eb_rename)"
   ]
  },
  {
   "attachments": {},
   "cell_type": "markdown",
   "metadata": {},
   "source": [
    "***Object levels incorrect***\n",
    "\n",
    "**Fix field tree structure:**\n",
    "> `JSONDecodeError: Expecting ',' delimiter: line 1027 column 14 (char 27962)`\n",
    "> \n",
    ">   `1025    \"ApplicatorId\": \"-\"`<br>\n",
    ">   `1206      },`<br>\n",
    ">   `1027    \"Calculation\": {`<br>\n",
    ">   `1028      \"FieldCalculationTimestamp\": \"Monday, February 6, 2023 2:15:36 PM\",`<br>\n",
    "\n",
    "<table>\n",
    "<tr><td>Initial template text:</td><td>Final template text:</td></tr>\n",
    "<tr>\n",
    "<td>\n",
    "<code>\n",
    "\"Field\": {<br>\n",
    "\"Fields\": [{<br>\n",
    "Loop=Fields<br>\n",
    "  \"FieldName\": \"$FieldName \",<br>\n",
    "</code>\n",
    "</td>\n",
    "<td>\n",
    "<code>\n",
    "\"Fields\": [{<br>\n",
    "Loop=Fields<br>\n",
    "\"Field\": {<br>\n",
    "  \"FieldName\": \"$FieldName \",<br>\n",
    "</code>\n",
    "</td></tr>\n",
    "</table>\n"
   ]
  },
  {
   "cell_type": "code",
   "execution_count": 83,
   "metadata": {},
   "outputs": [],
   "source": [
    "fld_orig = '\\n'.join([\n",
    "    '\"Field\": {',\n",
    "    '\"Fields\": [{',\n",
    "    'Loop=Fields'\n",
    "    ])\n",
    "fld_rename = '\\n'.join([\n",
    "    '\"Fields\": [{',\n",
    "    'Loop=Fields',\n",
    "    '\"Field\": {',\n",
    "    ])\n",
    "\n",
    "mod_str = mod_str.replace(fld_orig, fld_rename)"
   ]
  },
  {
   "cell_type": "code",
   "execution_count": 84,
   "metadata": {},
   "outputs": [],
   "source": [
    "end_fld_orig = '\\n'.join([\n",
    "    '  },{',\n",
    "    '  EndLoop',\n",
    "    '  }]',\n",
    "    '},{',\n",
    "    'EndLoop',\n",
    "    '}]',\n",
    "    '},',\n",
    "    '\"PLANNING VALIDATION WARNING\": {',\n",
    "    'If=$IsUnapprovedOrReviewed',\n",
    "    '  \"PlanningValidationWarnings\": [{',\n",
    "    '  Loop=PlanningValidationWarnings',\n",
    "    '      \"PlanningValidationWarningsLine\": \"$PlanningValidationWarningsLine \"',\n",
    "    '  },{',\n",
    "    '  EndLoop',\n",
    "    '  }],',\n",
    "    'EndIf',\n",
    "    '}'\n",
    "    ])\n",
    "end_fld_rename = '\\n'.join([\n",
    "    '  },{',\n",
    "    '  EndLoop',\n",
    "    '  }]',\n",
    "    '  },',\n",
    "    '},{',\n",
    "    'EndLoop',\n",
    "    '}]',\n",
    "    '}'\n",
    "    ])\n",
    "\n",
    "mod_str = mod_str.replace(end_fld_orig, end_fld_rename)"
   ]
  },
  {
   "attachments": {},
   "cell_type": "markdown",
   "metadata": {},
   "source": [
    "**Merge Calculation, MLC and Compensator with Field**"
   ]
  },
  {
   "cell_type": "code",
   "execution_count": 85,
   "metadata": {},
   "outputs": [],
   "source": [
    "calc_hdr = '\\n  },\\n\"Calculation\": {'\n",
    "mod_str = mod_str.replace(calc_hdr, ',')\n",
    "mlc_hdr = '\\n  },\\n\"MLC\": {'\n",
    "mod_str = mod_str.replace(mlc_hdr, ',')\n",
    "comp_hdr = '\\n  },\\n\"Compensator\": {'\n",
    "mod_str = mod_str.replace(comp_hdr, ',')\n"
   ]
  },
  {
   "cell_type": "code",
   "execution_count": 86,
   "metadata": {},
   "outputs": [],
   "source": [
    "#output_file.write_text(mod_str, encoding='utf_8_sig')\n",
    "#mod_str\n",
    "#print(mod_str)"
   ]
  },
  {
   "attachments": {},
   "cell_type": "markdown",
   "metadata": {},
   "source": [
    "**Add `Text=` commands where appropriate**"
   ]
  },
  {
   "cell_type": "code",
   "execution_count": 87,
   "metadata": {},
   "outputs": [],
   "source": [
    "command_text = [\n",
    "    'Loop',\n",
    "    'EndLoop',\n",
    "    'If',\n",
    "    'EndIf',\n",
    "    'Text=',\n",
    "    '#'\n",
    "    ]\n",
    "prt_tmpl_list = []\n",
    "for line in mod_str.splitlines():\n",
    "    if not any(cm in line for cm in command_text):\n",
    "        line = 'Text=' + line\n",
    "    prt_tmpl_list.append(line)\n"
   ]
  },
  {
   "attachments": {},
   "cell_type": "markdown",
   "metadata": {},
   "source": [
    "**Add `Section=Form` to the beginning  of the text**"
   ]
  },
  {
   "cell_type": "code",
   "execution_count": 88,
   "metadata": {},
   "outputs": [],
   "source": [
    "final_json_prt_tmpl = '\\n'.join(prt_tmpl_list)\n",
    "# Add 'Section=Form' to the beginning  of the text\n",
    "final_json_prt_tmpl = 'Section=Form\\n\\n' + final_json_prt_tmpl"
   ]
  },
  {
   "cell_type": "code",
   "execution_count": 89,
   "metadata": {},
   "outputs": [
    {
     "data": {
      "text/plain": [
       "23514"
      ]
     },
     "execution_count": 89,
     "metadata": {},
     "output_type": "execute_result"
    }
   ],
   "source": [
    "output_file.write_text(final_json_prt_tmpl, encoding='utf_8_sig')"
   ]
  },
  {
   "cell_type": "code",
   "execution_count": 90,
   "metadata": {},
   "outputs": [],
   "source": [
    "#print(final_json_prt_tmpl)"
   ]
  },
  {
   "attachments": {},
   "cell_type": "markdown",
   "metadata": {},
   "source": [
    "***Messages about calculation logs***\n",
    "```\n",
    "  Text=Calculation logs can be printed line by line using any of the following loops:\n",
    "  Text= - CalculationWarnings\n",
    "  Text= - CalculationErrors\n",
    "  Text= - CalculationInfos\n",
    "  Text= - CalculationNotes\n",
    "  Text= - LmcCalculationErrors\n",
    "  Text= - LmcCalculationWarnings\n",
    "  Text= - LmcCalculationInfos\n",
    "  Text= - LmcCalculationNotes\n",
    "  Text= - CompCalculationErrors\n",
    "  Text= - CompCalculationWarnings\n",
    "  Text= - CompCalculationInfos\n",
    "  Text= - CompCalculationNotes\n",
    "  Text= - PortalDoseCalculationErrors\n",
    "  Text= - PortalDoseCalculationWarnings\n",
    "  Text= - PortalDoseCalculationInfos\n",
    "  Text= - PortalDoseCalculationNotes\n",
    "  Text= - IMRTOptimizationErrors\n",
    "  Text= - IMRTOptimizationWarnings\n",
    "  Text= - IMRTOptimizationInfos\n",
    "  Text= - IMRTOptimizationNotes\n",
    "  Text= - VMATOptimizationErrors\n",
    "  Text= - VMATOptimizationWarnings\n",
    "  Text= - VMATOptimizationInfos\n",
    "  Text= - VMATOptimizationNotes\n",
    "  Text= - BeamAngleOptimizationErrors\n",
    "  Text= - BeamAngleOptimizationWarnings\n",
    "  Text= - BeamAngleOptimizationInfos\n",
    "  Text= - BeamAngleOptimizationNotes\n",
    "  Text= - BLCalculationErrors\n",
    "  Text= - BLCalculationWarnings\n",
    "  Text= - BLCalculationInfos\n",
    "  Text= - BLCalculationNotes\n",
    "  Text= - BeamLineModifiers\n",
    "  Text= - BLOptimizerCalculationErrors\n",
    "  Text= - BLOptimizerCalculationWarnings\n",
    "  Text= - BLOptimizerCalculationInfos\n",
    "  Text= - BLOptimizerCalculationNotes\n",
    "  Text= - PostProcessingCalculationErrors\n",
    "  Text= - PostProcessingCalculationWarnings\n",
    "  Text= - PostProcessingCalculationInfos\n",
    "  Text= - PostProcessingCalculationNotes\n",
    "  Text=Inside the loop the variable\n",
    "  Text=  $$ LogLine\n",
    "  Text=prints out the current line.\n",
    "  Text=The entire dose calculation log for the active field is printed using:\n",
    "  Text=$$ FieldLog :\n",
    "  Text=$FieldLog\n",
    "  ```"
   ]
  }
 ],
 "metadata": {
  "kernelspec": {
   "display_name": "Python 3",
   "language": "python",
   "name": "python3"
  },
  "language_info": {
   "codemirror_mode": {
    "name": "ipython",
    "version": 3
   },
   "file_extension": ".py",
   "mimetype": "text/x-python",
   "name": "python",
   "nbconvert_exporter": "python",
   "pygments_lexer": "ipython3",
   "version": "3.9.7"
  },
  "orig_nbformat": 4,
  "vscode": {
   "interpreter": {
    "hash": "11938c6bc6919ae2720b4d5011047913343b08a43b18698fd82dedb0d4417594"
   }
  }
 },
 "nbformat": 4,
 "nbformat_minor": 2
}
